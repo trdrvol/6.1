{
 "cells": [
  {
   "cell_type": "code",
   "execution_count": null,
   "metadata": {},
   "outputs": [],
   "source": [
    "\"\"\"\n",
    "6.1 : Numpy 1\n",
    "\n",
    "Write a function so that the columns of the output matrix are powers of the input\n",
    "vector.\n",
    "The order of the powers is determined by the increasing boolean argument. Specifically,\n",
    "when increasing is False, the i-th output column is the input vector raised element-wise\n",
    "to the power of N - i - 1.\n",
    "\n",
    "HINT: Such a matrix with a geometric progression names after Vandermonde.\n",
    "\"\"\""
   ]
  },
  {
   "cell_type": "code",
   "execution_count": 1,
   "metadata": {},
   "outputs": [
    {
     "name": "stdout",
     "output_type": "stream",
     "text": [
      "[[     1      1      1      1      1      1      1]\n",
      " [    64     32     16      8      4      2      1]\n",
      " [   729    243     81     27      9      3      1]\n",
      " [  4096   1024    256     64     16      4      1]\n",
      " [ 15625   3125    625    125     25      5      1]\n",
      " [ 46656   7776   1296    216     36      6      1]\n",
      " [117649  16807   2401    343     49      7      1]]\n"
     ]
    }
   ],
   "source": [
    "# Assignment 6.1\n",
    "# _______________________\n",
    "\n",
    "import numpy as np\n",
    "x=np.array([1,2,3,4,5,6,7])\n",
    "N=len(x)\n",
    "Z=np.column_stack([x**(N-i-1) for i in  range(N)])\n",
    "print(Z)"
   ]
  },
  {
   "cell_type": "code",
   "execution_count": 2,
   "metadata": {},
   "outputs": [
    {
     "name": "stdout",
     "output_type": "stream",
     "text": [
      "[[     1      1      1      1      1      1      1]\n",
      " [    64     32     16      8      4      2      1]\n",
      " [   729    243     81     27      9      3      1]\n",
      " [  4096   1024    256     64     16      4      1]\n",
      " [ 15625   3125    625    125     25      5      1]\n",
      " [ 46656   7776   1296    216     36      6      1]\n",
      " [117649  16807   2401    343     49      7      1]]\n"
     ]
    }
   ],
   "source": [
    "# By using inbuilt numpy function vander.\n",
    "import numpy as np\n",
    "x=np.array([1,2,3,4,5,6,7])\n",
    "a=np.vander(x,len(x))\n",
    "print(a)"
   ]
  },
  {
   "cell_type": "code",
   "execution_count": null,
   "metadata": {},
   "outputs": [],
   "source": []
  }
 ],
 "metadata": {
  "kernelspec": {
   "display_name": "Python 3",
   "language": "python",
   "name": "python3"
  },
  "language_info": {
   "codemirror_mode": {
    "name": "ipython",
    "version": 3
   },
   "file_extension": ".py",
   "mimetype": "text/x-python",
   "name": "python",
   "nbconvert_exporter": "python",
   "pygments_lexer": "ipython3",
   "version": "3.6.4"
  }
 },
 "nbformat": 4,
 "nbformat_minor": 2
}
